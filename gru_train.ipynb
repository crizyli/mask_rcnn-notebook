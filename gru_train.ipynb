{
 "cells": [
  {
   "cell_type": "code",
   "execution_count": 382,
   "metadata": {},
   "outputs": [],
   "source": [
    "import os\n",
    "import time\n",
    "\n",
    "import numpy as np\n",
    "import pandas as pd\n",
    "import matplotlib.pyplot as plt\n",
    "\n",
    "import torch\n",
    "import torch.nn as nn\n",
    "from torch.utils.data import TensorDataset, DataLoader\n",
    "from sklearn.preprocessing import MinMaxScaler"
   ]
  },
  {
   "cell_type": "code",
   "execution_count": 383,
   "metadata": {},
   "outputs": [
    {
     "data": {
      "text/html": [
       "<div>\n",
       "<style scoped>\n",
       "    .dataframe tbody tr th:only-of-type {\n",
       "        vertical-align: middle;\n",
       "    }\n",
       "\n",
       "    .dataframe tbody tr th {\n",
       "        vertical-align: top;\n",
       "    }\n",
       "\n",
       "    .dataframe thead th {\n",
       "        text-align: right;\n",
       "    }\n",
       "</style>\n",
       "<table border=\"1\" class=\"dataframe\">\n",
       "  <thead>\n",
       "    <tr style=\"text-align: right;\">\n",
       "      <th></th>\n",
       "      <th>sensor</th>\n",
       "      <th>9y</th>\n",
       "    </tr>\n",
       "  </thead>\n",
       "  <tbody>\n",
       "    <tr>\n",
       "      <th>0</th>\n",
       "      <td>0.039216</td>\n",
       "      <td>235.392</td>\n",
       "    </tr>\n",
       "    <tr>\n",
       "      <th>1</th>\n",
       "      <td>0.039216</td>\n",
       "      <td>236.682</td>\n",
       "    </tr>\n",
       "    <tr>\n",
       "      <th>2</th>\n",
       "      <td>0.039216</td>\n",
       "      <td>238.002</td>\n",
       "    </tr>\n",
       "    <tr>\n",
       "      <th>3</th>\n",
       "      <td>0.039216</td>\n",
       "      <td>237.996</td>\n",
       "    </tr>\n",
       "    <tr>\n",
       "      <th>4</th>\n",
       "      <td>0.039216</td>\n",
       "      <td>237.974</td>\n",
       "    </tr>\n",
       "  </tbody>\n",
       "</table>\n",
       "</div>"
      ],
      "text/plain": [
       "     sensor       9y\n",
       "0  0.039216  235.392\n",
       "1  0.039216  236.682\n",
       "2  0.039216  238.002\n",
       "3  0.039216  237.996\n",
       "4  0.039216  237.974"
      ]
     },
     "execution_count": 383,
     "metadata": {},
     "output_type": "execute_result"
    }
   ],
   "source": [
    "pd.read_csv('sensor9y.csv').head()"
   ]
  },
  {
   "cell_type": "code",
   "execution_count": 384,
   "metadata": {},
   "outputs": [
    {
     "data": {
      "text/plain": [
       "MinMaxScaler(copy=True, feature_range=(0, 1))"
      ]
     },
     "execution_count": 384,
     "metadata": {},
     "output_type": "execute_result"
    }
   ],
   "source": [
    "train_x = []\n",
    "\n",
    "# Store csv file in a Pandas DataFrame\n",
    "df = pd.read_csv('sensor9y.csv')\n",
    "\n",
    "# Scaling the input data\n",
    "sc = MinMaxScaler()\n",
    "label_sc = MinMaxScaler()\n",
    "data = sc.fit_transform(df.values)\n",
    "# Obtaining the Scale for the labels(usage data) so that output can be re-scaled to actual value during evaluation\n",
    "label_sc.fit(df.iloc[:,1].values.reshape(-1,1))"
   ]
  },
  {
   "cell_type": "code",
   "execution_count": 410,
   "metadata": {},
   "outputs": [],
   "source": [
    "# Define lookback period and split inputs/labels\n",
    "lookback = 10\n",
    "inputs = np.zeros((len(data)-lookback,lookback,df.shape[1]))\n",
    "labels = np.zeros(len(data)-lookback)\n",
    "\n",
    "for i in range(lookback, len(data)):\n",
    "    inputs[i-lookback] = data[i-lookback:i]\n",
    "    labels[i-lookback] = data[i,1]\n",
    "inputs = inputs.reshape(-1,lookback,df.shape[1])\n",
    "labels = labels.reshape(-1,1)"
   ]
  },
  {
   "cell_type": "code",
   "execution_count": 411,
   "metadata": {},
   "outputs": [],
   "source": [
    "# Split data into train/test portions and combining all data from different files into a single array\n",
    "test_portion = int(0.2*len(inputs))\n",
    "train_x = inputs[:-test_portion]\n",
    "train_y = labels[:-test_portion]\n",
    "test_x = inputs[-test_portion:]\n",
    "test_y = labels[-test_portion:]"
   ]
  },
  {
   "cell_type": "code",
   "execution_count": null,
   "metadata": {},
   "outputs": [],
   "source": []
  },
  {
   "cell_type": "code",
   "execution_count": 412,
   "metadata": {},
   "outputs": [],
   "source": [
    "batch_size = 15\n",
    "\n",
    "train_data = TensorDataset(torch.from_numpy(train_x), torch.from_numpy(train_y))\n",
    "train_loader = DataLoader(train_data, shuffle=True, batch_size=batch_size, drop_last=True)"
   ]
  },
  {
   "cell_type": "code",
   "execution_count": 413,
   "metadata": {},
   "outputs": [],
   "source": [
    "# torch.cuda.is_available() checks and returns a Boolean True if a GPU is available, else it'll return False\n",
    "is_cuda = torch.cuda.is_available()\n",
    "\n",
    "# If we have a GPU available, we'll set our device to GPU. We'll use this device variable later in our code.\n",
    "if is_cuda:\n",
    "    device = torch.device(\"cuda\")\n",
    "else:\n",
    "    device = torch.device(\"cpu\")"
   ]
  },
  {
   "cell_type": "code",
   "execution_count": null,
   "metadata": {},
   "outputs": [],
   "source": []
  },
  {
   "cell_type": "code",
   "execution_count": 414,
   "metadata": {},
   "outputs": [],
   "source": [
    "class GRUNet(nn.Module):\n",
    "    def __init__(self, input_dim, hidden_dim, output_dim, n_layers, drop_prob=0.2):\n",
    "        super(GRUNet, self).__init__()\n",
    "        self.hidden_dim = hidden_dim\n",
    "        self.n_layers = n_layers\n",
    "        \n",
    "        self.gru = nn.GRU(input_dim, hidden_dim, n_layers, batch_first=True, dropout=drop_prob)\n",
    "        self.fc = nn.Linear(hidden_dim, output_dim)\n",
    "        self.relu = nn.ReLU()\n",
    "        \n",
    "    def forward(self, x, h):\n",
    "        out, h = self.gru(x, h)\n",
    "        out = self.fc(self.relu(out[:,-1]))\n",
    "        return out, h\n",
    "    \n",
    "    def init_hidden(self, batch_size):\n",
    "        weight = next(self.parameters()).data\n",
    "        hidden = weight.new(self.n_layers, batch_size, self.hidden_dim).zero_().to(device)\n",
    "        return hidden"
   ]
  },
  {
   "cell_type": "code",
   "execution_count": 415,
   "metadata": {},
   "outputs": [],
   "source": [
    "def train(train_loader, learn_rate, hidden_dim=256, EPOCHS=5, model_type=\"GRU\"):\n",
    "    \n",
    "    # Setting common hyperparameters\n",
    "    input_dim = next(iter(train_loader))[0].shape[2]\n",
    "    output_dim = 1\n",
    "    n_layers = 2\n",
    "    # Instantiating the model\n",
    "    model = GRUNet(input_dim, hidden_dim, output_dim, n_layers)\n",
    "    model.to(device)\n",
    "    \n",
    "    # Defining loss function and optimizer\n",
    "    criterion = nn.MSELoss()\n",
    "    optimizer = torch.optim.Adam(model.parameters(), lr=learn_rate)\n",
    "    \n",
    "    model.train()\n",
    "    print(\"Starting Training of {} model\".format(model_type))\n",
    "    epoch_times = []\n",
    "    # Start training loop\n",
    "    for epoch in range(1,EPOCHS+1):\n",
    "        start_time = time.clock()\n",
    "        h = model.init_hidden(batch_size)\n",
    "        avg_loss = 0.\n",
    "        counter = 0\n",
    "        for x, label in train_loader:\n",
    "            counter += 1\n",
    "            h = h.data\n",
    "            model.zero_grad()\n",
    "            \n",
    "            out, h = model(x.to(device).float(), h)\n",
    "            loss = criterion(out, label.to(device).float())\n",
    "            loss.backward()\n",
    "            optimizer.step()\n",
    "            avg_loss += loss.item()\n",
    "            #if counter%20 == 0:\n",
    "            print(\"Epoch {}......Step: {}/{}....... Average Loss for Epoch: {}\".format(epoch, counter, len(train_loader), avg_loss/counter))\n",
    "        current_time = time.clock()\n",
    "        print(\"Epoch {}/{} Done, Total Loss: {}\".format(epoch, EPOCHS, avg_loss/len(train_loader)))\n",
    "        print(\"Time Elapsed for Epoch: {} seconds\".format(str(current_time-start_time)))\n",
    "        epoch_times.append(current_time-start_time)\n",
    "    print(\"Total Training Time: {} seconds\".format(str(sum(epoch_times))))\n",
    "    return model\n"
   ]
  },
  {
   "cell_type": "code",
   "execution_count": 416,
   "metadata": {},
   "outputs": [],
   "source": [
    "def evaluate(model, test_x, test_y, label_sc):\n",
    "    model.eval()\n",
    "    outputs = []\n",
    "    targets = []\n",
    "    start_time = time.clock()\n",
    "    \n",
    "    inp = torch.from_numpy(np.array(test_x))\n",
    "    labs = torch.from_numpy(np.array(test_y))\n",
    "    h = model.init_hidden(inp.shape[0])\n",
    "    out, h = model(inp.to(device).float(), h)\n",
    "    outputs.append(label_sc.inverse_transform(out.cpu().detach().numpy()).reshape(-1))\n",
    "    targets.append(label_sc.inverse_transform(labs.numpy()).reshape(-1))\n",
    "    \n",
    "    print(\"Evaluation Time: {}\".format(str(time.clock()-start_time)))\n",
    "    sMAPE = 0\n",
    "    for i in range(len(outputs)):\n",
    "        sMAPE += np.mean(abs(outputs[i]-targets[i])/(targets[i]+outputs[i])/2)/len(outputs)\n",
    "    print(\"sMAPE: {}%\".format(sMAPE*100))\n",
    "    return outputs, targets, sMAPE"
   ]
  },
  {
   "cell_type": "code",
   "execution_count": 417,
   "metadata": {},
   "outputs": [
    {
     "name": "stdout",
     "output_type": "stream",
     "text": [
      "Starting Training of GRU model\n",
      "Epoch 1......Step: 1/26....... Average Loss for Epoch: 0.24038799107074738\n",
      "Epoch 1......Step: 2/26....... Average Loss for Epoch: 0.23522371798753738\n",
      "Epoch 1......Step: 3/26....... Average Loss for Epoch: 0.19068264961242676\n",
      "Epoch 1......Step: 4/26....... Average Loss for Epoch: 0.16856995411217213\n",
      "Epoch 1......Step: 5/26....... Average Loss for Epoch: 0.16373073905706406\n",
      "Epoch 1......Step: 6/26....... Average Loss for Epoch: 0.15780712539951006\n",
      "Epoch 1......Step: 7/26....... Average Loss for Epoch: 0.14482344367674418\n",
      "Epoch 1......Step: 8/26....... Average Loss for Epoch: 0.1375140631571412\n",
      "Epoch 1......Step: 9/26....... Average Loss for Epoch: 0.12918279568354288\n",
      "Epoch 1......Step: 10/26....... Average Loss for Epoch: 0.12458202093839646\n",
      "Epoch 1......Step: 11/26....... Average Loss for Epoch: 0.1236514388160272\n",
      "Epoch 1......Step: 12/26....... Average Loss for Epoch: 0.12248766111830871\n",
      "Epoch 1......Step: 13/26....... Average Loss for Epoch: 0.11743774809516393\n",
      "Epoch 1......Step: 14/26....... Average Loss for Epoch: 0.11429597304335662\n",
      "Epoch 1......Step: 15/26....... Average Loss for Epoch: 0.10952495088179906\n",
      "Epoch 1......Step: 16/26....... Average Loss for Epoch: 0.10498765902593732\n",
      "Epoch 1......Step: 17/26....... Average Loss for Epoch: 0.102166319375529\n",
      "Epoch 1......Step: 18/26....... Average Loss for Epoch: 0.09923992844091521\n",
      "Epoch 1......Step: 19/26....... Average Loss for Epoch: 0.09678398896204798\n",
      "Epoch 1......Step: 20/26....... Average Loss for Epoch: 0.09574566520750523\n",
      "Epoch 1......Step: 21/26....... Average Loss for Epoch: 0.09268151046264739\n",
      "Epoch 1......Step: 22/26....... Average Loss for Epoch: 0.08929349905387922\n",
      "Epoch 1......Step: 23/26....... Average Loss for Epoch: 0.08834540924948195\n",
      "Epoch 1......Step: 24/26....... Average Loss for Epoch: 0.08681505545973778\n",
      "Epoch 1......Step: 25/26....... Average Loss for Epoch: 0.08561214596033097\n",
      "Epoch 1......Step: 26/26....... Average Loss for Epoch: 0.08382048013691719\n",
      "Epoch 1/5 Done, Total Loss: 0.08382048013691719\n",
      "Time Elapsed for Epoch: 0.7553843999999117 seconds\n",
      "Epoch 2......Step: 1/26....... Average Loss for Epoch: 0.06152207404375076\n",
      "Epoch 2......Step: 2/26....... Average Loss for Epoch: 0.04515096452087164\n",
      "Epoch 2......Step: 3/26....... Average Loss for Epoch: 0.04448488913476467\n",
      "Epoch 2......Step: 4/26....... Average Loss for Epoch: 0.041857818607240915\n",
      "Epoch 2......Step: 5/26....... Average Loss for Epoch: 0.04321821741759777\n",
      "Epoch 2......Step: 6/26....... Average Loss for Epoch: 0.04424488451331854\n",
      "Epoch 2......Step: 7/26....... Average Loss for Epoch: 0.044007757146443637\n",
      "Epoch 2......Step: 8/26....... Average Loss for Epoch: 0.04180619935505092\n",
      "Epoch 2......Step: 9/26....... Average Loss for Epoch: 0.04686750119758977\n",
      "Epoch 2......Step: 10/26....... Average Loss for Epoch: 0.04671384748071432\n",
      "Epoch 2......Step: 11/26....... Average Loss for Epoch: 0.04497772387482903\n",
      "Epoch 2......Step: 12/26....... Average Loss for Epoch: 0.04357336818551024\n",
      "Epoch 2......Step: 13/26....... Average Loss for Epoch: 0.04773983860818239\n",
      "Epoch 2......Step: 14/26....... Average Loss for Epoch: 0.04594661428460053\n",
      "Epoch 2......Step: 15/26....... Average Loss for Epoch: 0.04439824459453424\n",
      "Epoch 2......Step: 16/26....... Average Loss for Epoch: 0.04281387466471642\n",
      "Epoch 2......Step: 17/26....... Average Loss for Epoch: 0.04110710580340203\n",
      "Epoch 2......Step: 18/26....... Average Loss for Epoch: 0.0399526330228481\n",
      "Epoch 2......Step: 19/26....... Average Loss for Epoch: 0.03979590628296137\n",
      "Epoch 2......Step: 20/26....... Average Loss for Epoch: 0.038704928429797295\n",
      "Epoch 2......Step: 21/26....... Average Loss for Epoch: 0.038639802884842665\n",
      "Epoch 2......Step: 22/26....... Average Loss for Epoch: 0.038312982132827696\n",
      "Epoch 2......Step: 23/26....... Average Loss for Epoch: 0.037638167769688625\n",
      "Epoch 2......Step: 24/26....... Average Loss for Epoch: 0.03672463427452991\n",
      "Epoch 2......Step: 25/26....... Average Loss for Epoch: 0.03601865295320749\n",
      "Epoch 2......Step: 26/26....... Average Loss for Epoch: 0.036690232737992816\n",
      "Epoch 2/5 Done, Total Loss: 0.036690232737992816\n",
      "Time Elapsed for Epoch: 0.7920400000000427 seconds\n",
      "Epoch 3......Step: 1/26....... Average Loss for Epoch: 0.012986186891794205\n",
      "Epoch 3......Step: 2/26....... Average Loss for Epoch: 0.01671749260276556\n",
      "Epoch 3......Step: 3/26....... Average Loss for Epoch: 0.025662097459038097\n",
      "Epoch 3......Step: 4/26....... Average Loss for Epoch: 0.022595319896936417\n",
      "Epoch 3......Step: 5/26....... Average Loss for Epoch: 0.025722620636224748\n",
      "Epoch 3......Step: 6/26....... Average Loss for Epoch: 0.022568794044976432\n",
      "Epoch 3......Step: 7/26....... Average Loss for Epoch: 0.02776057439457093\n",
      "Epoch 3......Step: 8/26....... Average Loss for Epoch: 0.02527481078868732\n",
      "Epoch 3......Step: 9/26....... Average Loss for Epoch: 0.025321177051713068\n",
      "Epoch 3......Step: 10/26....... Average Loss for Epoch: 0.024213285883888602\n",
      "Epoch 3......Step: 11/26....... Average Loss for Epoch: 0.022420637859878214\n",
      "Epoch 3......Step: 12/26....... Average Loss for Epoch: 0.024452586852324504\n",
      "Epoch 3......Step: 13/26....... Average Loss for Epoch: 0.023627993041792743\n",
      "Epoch 3......Step: 14/26....... Average Loss for Epoch: 0.023770393304792897\n",
      "Epoch 3......Step: 15/26....... Average Loss for Epoch: 0.03134632039194306\n",
      "Epoch 3......Step: 16/26....... Average Loss for Epoch: 0.032027902343543246\n",
      "Epoch 3......Step: 17/26....... Average Loss for Epoch: 0.034230612903175986\n",
      "Epoch 3......Step: 18/26....... Average Loss for Epoch: 0.03460611943672928\n",
      "Epoch 3......Step: 19/26....... Average Loss for Epoch: 0.03515242768059436\n",
      "Epoch 3......Step: 20/26....... Average Loss for Epoch: 0.03548599875066429\n",
      "Epoch 3......Step: 21/26....... Average Loss for Epoch: 0.03505201427088607\n",
      "Epoch 3......Step: 22/26....... Average Loss for Epoch: 0.03488107298670167\n",
      "Epoch 3......Step: 23/26....... Average Loss for Epoch: 0.034002337705991835\n",
      "Epoch 3......Step: 24/26....... Average Loss for Epoch: 0.033899203195081405\n",
      "Epoch 3......Step: 25/26....... Average Loss for Epoch: 0.03323378020897508\n",
      "Epoch 3......Step: 26/26....... Average Loss for Epoch: 0.034640161983238965\n",
      "Epoch 3/5 Done, Total Loss: 0.034640161983238965\n",
      "Time Elapsed for Epoch: 0.8912078999999267 seconds\n",
      "Epoch 4......Step: 1/26....... Average Loss for Epoch: 0.0395621731877327\n",
      "Epoch 4......Step: 2/26....... Average Loss for Epoch: 0.033658587373793125\n",
      "Epoch 4......Step: 3/26....... Average Loss for Epoch: 0.028910816957553227\n",
      "Epoch 4......Step: 4/26....... Average Loss for Epoch: 0.037857227958738804\n",
      "Epoch 4......Step: 5/26....... Average Loss for Epoch: 0.035284125804901124\n",
      "Epoch 4......Step: 6/26....... Average Loss for Epoch: 0.038915988678733505\n",
      "Epoch 4......Step: 7/26....... Average Loss for Epoch: 0.035510498099029064\n",
      "Epoch 4......Step: 8/26....... Average Loss for Epoch: 0.03489935596007854\n",
      "Epoch 4......Step: 9/26....... Average Loss for Epoch: 0.0346347831396593\n",
      "Epoch 4......Step: 10/26....... Average Loss for Epoch: 0.03638224946334958\n",
      "Epoch 4......Step: 11/26....... Average Loss for Epoch: 0.03447483217513019\n",
      "Epoch 4......Step: 12/26....... Average Loss for Epoch: 0.03298719716258347\n",
      "Epoch 4......Step: 13/26....... Average Loss for Epoch: 0.03520288712416704\n",
      "Epoch 4......Step: 14/26....... Average Loss for Epoch: 0.03377426156241979\n",
      "Epoch 4......Step: 15/26....... Average Loss for Epoch: 0.032432311897476515\n",
      "Epoch 4......Step: 16/26....... Average Loss for Epoch: 0.03130708419485018\n",
      "Epoch 4......Step: 17/26....... Average Loss for Epoch: 0.031977446147185916\n",
      "Epoch 4......Step: 18/26....... Average Loss for Epoch: 0.03125876752245757\n",
      "Epoch 4......Step: 19/26....... Average Loss for Epoch: 0.032007414504493535\n",
      "Epoch 4......Step: 20/26....... Average Loss for Epoch: 0.03234972660429776\n",
      "Epoch 4......Step: 21/26....... Average Loss for Epoch: 0.03218425539810033\n",
      "Epoch 4......Step: 22/26....... Average Loss for Epoch: 0.03229285552251068\n",
      "Epoch 4......Step: 23/26....... Average Loss for Epoch: 0.03135706435727036\n",
      "Epoch 4......Step: 24/26....... Average Loss for Epoch: 0.03054119646549225\n",
      "Epoch 4......Step: 25/26....... Average Loss for Epoch: 0.030627912282943724\n",
      "Epoch 4......Step: 26/26....... Average Loss for Epoch: 0.03178538511005732\n",
      "Epoch 4/5 Done, Total Loss: 0.03178538511005732\n",
      "Time Elapsed for Epoch: 0.8394224000001032 seconds\n",
      "Epoch 5......Step: 1/26....... Average Loss for Epoch: 0.018682094290852547\n"
     ]
    },
    {
     "name": "stdout",
     "output_type": "stream",
     "text": [
      "Epoch 5......Step: 2/26....... Average Loss for Epoch: 0.037504916079342365\n",
      "Epoch 5......Step: 3/26....... Average Loss for Epoch: 0.028522684549291927\n",
      "Epoch 5......Step: 4/26....... Average Loss for Epoch: 0.023208169382996857\n",
      "Epoch 5......Step: 5/26....... Average Loss for Epoch: 0.021414245199412107\n",
      "Epoch 5......Step: 6/26....... Average Loss for Epoch: 0.023698757324988644\n",
      "Epoch 5......Step: 7/26....... Average Loss for Epoch: 0.02349053023915206\n",
      "Epoch 5......Step: 8/26....... Average Loss for Epoch: 0.02326104271924123\n",
      "Epoch 5......Step: 9/26....... Average Loss for Epoch: 0.02734177637224396\n",
      "Epoch 5......Step: 10/26....... Average Loss for Epoch: 0.03160521532408893\n",
      "Epoch 5......Step: 11/26....... Average Loss for Epoch: 0.035467401781881396\n",
      "Epoch 5......Step: 12/26....... Average Loss for Epoch: 0.03422540220587204\n",
      "Epoch 5......Step: 13/26....... Average Loss for Epoch: 0.03529972966330556\n",
      "Epoch 5......Step: 14/26....... Average Loss for Epoch: 0.03643501187408609\n",
      "Epoch 5......Step: 15/26....... Average Loss for Epoch: 0.03468598273272316\n",
      "Epoch 5......Step: 16/26....... Average Loss for Epoch: 0.033353900274960324\n",
      "Epoch 5......Step: 17/26....... Average Loss for Epoch: 0.03269811782657223\n",
      "Epoch 5......Step: 18/26....... Average Loss for Epoch: 0.03245186202952431\n",
      "Epoch 5......Step: 19/26....... Average Loss for Epoch: 0.031271230551953376\n",
      "Epoch 5......Step: 20/26....... Average Loss for Epoch: 0.03015112371649593\n",
      "Epoch 5......Step: 21/26....... Average Loss for Epoch: 0.029327951172100648\n",
      "Epoch 5......Step: 22/26....... Average Loss for Epoch: 0.028507121605798602\n",
      "Epoch 5......Step: 23/26....... Average Loss for Epoch: 0.028905605350661535\n",
      "Epoch 5......Step: 24/26....... Average Loss for Epoch: 0.02837438836771374\n",
      "Epoch 5......Step: 25/26....... Average Loss for Epoch: 0.027704458255320787\n",
      "Epoch 5......Step: 26/26....... Average Loss for Epoch: 0.028911017902338736\n",
      "Epoch 5/5 Done, Total Loss: 0.028911017902338736\n",
      "Time Elapsed for Epoch: 0.7720828999999867 seconds\n",
      "Total Training Time: 4.050137599999971 seconds\n"
     ]
    }
   ],
   "source": [
    "lr = 0.001\n",
    "gru_model = train(train_loader, lr, model_type=\"GRU\")"
   ]
  },
  {
   "cell_type": "code",
   "execution_count": 418,
   "metadata": {},
   "outputs": [
    {
     "name": "stdout",
     "output_type": "stream",
     "text": [
      "Evaluation Time: 0.027336499999819353\n",
      "sMAPE: 1.665032713984544%\n"
     ]
    }
   ],
   "source": [
    "gru_outputs, targets, gru_sMAPE = evaluate(gru_model, test_x, test_y, label_sc)"
   ]
  },
  {
   "cell_type": "code",
   "execution_count": 419,
   "metadata": {},
   "outputs": [
    {
     "name": "stdout",
     "output_type": "stream",
     "text": [
      "[array([322.0044 , 332.08398, 344.42047, 354.39438, 359.90332, 356.98947,\n",
      "       351.2814 , 336.67834, 321.92038, 305.14917, 281.638  , 269.6471 ,\n",
      "       263.3659 , 257.77274, 252.98523, 249.36531, 246.35368, 245.0457 ,\n",
      "       245.57619, 246.114  , 247.52296, 250.88249, 252.74754, 253.46306,\n",
      "       253.09605, 252.44621, 252.14673, 252.10129, 251.88435, 253.17702,\n",
      "       258.79175, 268.2616 , 265.0583 , 269.51703, 281.81714, 298.79675,\n",
      "       318.97214, 337.31406, 349.87955, 358.0017 , 362.40167, 317.63596,\n",
      "       269.97314, 243.80667, 237.64705, 237.63116, 240.15468, 243.42989,\n",
      "       246.7187 , 249.47527, 251.62877, 251.6306 , 252.06288, 251.48708,\n",
      "       251.99686, 253.86905, 256.79242, 261.89835, 268.17804, 276.44333,\n",
      "       283.68304, 292.43924, 302.34857, 310.91156, 294.39432, 300.90445,\n",
      "       314.0014 , 334.68225, 348.5983 , 361.7562 , 365.04337, 367.33154,\n",
      "       364.83557, 357.85852, 352.00684, 308.4712 , 309.93744, 322.20657,\n",
      "       330.9855 , 337.90186, 333.92035, 324.04   , 314.57376, 304.72153,\n",
      "       294.9206 , 284.9332 , 266.53583, 263.19275, 263.2329 , 262.66028,\n",
      "       262.13773, 259.4249 , 256.1594 , 252.53139, 251.19601, 250.52464,\n",
      "       250.11426], dtype=float32)]\n"
     ]
    }
   ],
   "source": [
    "print(gru_outputs)"
   ]
  },
  {
   "cell_type": "code",
   "execution_count": 420,
   "metadata": {},
   "outputs": [
    {
     "name": "stdout",
     "output_type": "stream",
     "text": [
      "[array([359.349, 356.727, 356.757, 352.848, 338.462, 334.534, 308.456,\n",
      "       301.928, 284.943, 249.721, 266.714, 258.879, 247.109, 241.885,\n",
      "       235.373, 228.841, 231.472, 235.396, 231.469, 237.975, 245.832,\n",
      "       238.011, 237.993, 236.674, 236.709, 237.971, 237.971, 241.884,\n",
      "       251.037, 266.685, 278.433, 241.89 , 283.674, 301.909, 314.987,\n",
      "       333.268, 342.392, 346.318, 355.438, 359.319, 239.274, 235.355,\n",
      "       240.586, 239.276, 239.29 , 240.58 , 239.274, 239.285, 237.995,\n",
      "       239.291, 238.02 , 240.614, 235.374, 241.88 , 245.818, 248.441,\n",
      "       256.25 , 260.193, 270.614, 271.94 , 283.67 , 292.798, 294.123,\n",
      "       235.377, 311.06 , 313.645, 342.382, 335.877, 358.034, 346.302,\n",
      "       359.341, 351.502, 343.708, 347.597, 236.659, 363.274, 346.313,\n",
      "       334.564, 344.982, 322.788, 311.098, 307.147, 294.101, 282.376,\n",
      "       274.51 , 235.363, 271.892, 260.171, 252.316, 252.324, 244.512,\n",
      "       241.884, 236.707, 240.597, 237.995, 237.971, 238.005])]\n"
     ]
    }
   ],
   "source": [
    "print(targets)"
   ]
  },
  {
   "cell_type": "code",
   "execution_count": 421,
   "metadata": {},
   "outputs": [
    {
     "data": {
      "image/png": "[encoded data removed]",
      "text/plain": [
       "<Figure size 432x288 with 1 Axes>"
      ]
     },
     "metadata": {
      "needs_background": "light"
     },
     "output_type": "display_data"
    }
   ],
   "source": [
    "plt.plot(gru_outputs[0])\n",
    "plt.show()"
   ]
  },
  {
   "cell_type": "code",
   "execution_count": 422,
   "metadata": {},
   "outputs": [
    {
     "data": {
      "image/png": "[encoded data removed]",
      "text/plain": [
       "<Figure size 432x288 with 1 Axes>"
      ]
     },
     "metadata": {
      "needs_background": "light"
     },
     "output_type": "display_data"
    }
   ],
   "source": [
    "plt.plot(targets[0])\n",
    "plt.show()"
   ]
  },
  {
   "cell_type": "code",
   "execution_count": null,
   "metadata": {},
   "outputs": [],
   "source": []
  }
 ],
 "metadata": {
  "kernelspec": {
   "display_name": "Python 3",
   "language": "python",
   "name": "python3"
  },
  "language_info": {
   "codemirror_mode": {
    "name": "ipython",
    "version": 3
   },
   "file_extension": ".py",
   "mimetype": "text/x-python",
   "name": "python",
   "nbconvert_exporter": "python",
   "pygments_lexer": "ipython3",
   "version": "3.6.10"
  }
 },
 "nbformat": 4,
 "nbformat_minor": 4
}
