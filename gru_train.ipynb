{
 "cells": [
  {
   "cell_type": "code",
   "execution_count": 1,
   "metadata": {},
   "outputs": [],
   "source": [
    "import os\n",
    "import time\n",
    "\n",
    "import numpy as np\n",
    "import pandas as pd\n",
    "import matplotlib.pyplot as plt\n",
    "\n",
    "import torch\n",
    "import torch.nn as nn\n",
    "from torch.utils.data import TensorDataset, DataLoader\n",
    "from sklearn.preprocessing import MinMaxScaler"
   ]
  },
  {
   "cell_type": "code",
   "execution_count": 3,
   "metadata": {},
   "outputs": [
    {
     "data": {
      "text/html": [
       "<div>\n",
       "<style scoped>\n",
       "    .dataframe tbody tr th:only-of-type {\n",
       "        vertical-align: middle;\n",
       "    }\n",
       "\n",
       "    .dataframe tbody tr th {\n",
       "        vertical-align: top;\n",
       "    }\n",
       "\n",
       "    .dataframe thead th {\n",
       "        text-align: right;\n",
       "    }\n",
       "</style>\n",
       "<table border=\"1\" class=\"dataframe\">\n",
       "  <thead>\n",
       "    <tr style=\"text-align: right;\">\n",
       "      <th></th>\n",
       "      <th>sensor</th>\n",
       "      <th>9y</th>\n",
       "    </tr>\n",
       "  </thead>\n",
       "  <tbody>\n",
       "    <tr>\n",
       "      <th>0</th>\n",
       "      <td>0.039216</td>\n",
       "      <td>235.392</td>\n",
       "    </tr>\n",
       "    <tr>\n",
       "      <th>1</th>\n",
       "      <td>0.039216</td>\n",
       "      <td>236.682</td>\n",
       "    </tr>\n",
       "    <tr>\n",
       "      <th>2</th>\n",
       "      <td>0.039216</td>\n",
       "      <td>238.002</td>\n",
       "    </tr>\n",
       "    <tr>\n",
       "      <th>3</th>\n",
       "      <td>0.039216</td>\n",
       "      <td>237.996</td>\n",
       "    </tr>\n",
       "    <tr>\n",
       "      <th>4</th>\n",
       "      <td>0.039216</td>\n",
       "      <td>237.974</td>\n",
       "    </tr>\n",
       "  </tbody>\n",
       "</table>\n",
       "</div>"
      ],
      "text/plain": [
       "     sensor       9y\n",
       "0  0.039216  235.392\n",
       "1  0.039216  236.682\n",
       "2  0.039216  238.002\n",
       "3  0.039216  237.996\n",
       "4  0.039216  237.974"
      ]
     },
     "execution_count": 3,
     "metadata": {},
     "output_type": "execute_result"
    }
   ],
   "source": [
    "pd.read_csv('sensor9y.csv').head()"
   ]
  },
  {
   "cell_type": "code",
   "execution_count": 4,
   "metadata": {},
   "outputs": [
    {
     "data": {
      "text/plain": [
       "MinMaxScaler(copy=True, feature_range=(0, 1))"
      ]
     },
     "execution_count": 4,
     "metadata": {},
     "output_type": "execute_result"
    }
   ],
   "source": [
    "train_x = []\n",
    "\n",
    "# Store csv file in a Pandas DataFrame\n",
    "df = pd.read_csv('sensor9y.csv')\n",
    "\n",
    "# Scaling the input data\n",
    "sc = MinMaxScaler()\n",
    "label_sc = MinMaxScaler()\n",
    "data = sc.fit_transform(df.values)\n",
    "# Obtaining the Scale for the labels(usage data) so that output can be re-scaled to actual value during evaluation\n",
    "label_sc.fit(df.iloc[:,1].values.reshape(-1,1))"
   ]
  },
  {
   "cell_type": "code",
   "execution_count": 8,
   "metadata": {},
   "outputs": [],
   "source": [
    "# Define lookback period and split inputs/labels\n",
    "lookback = 8\n",
    "inputs = np.zeros((len(data)-lookback,lookback,df.shape[1]))\n",
    "labels = np.zeros(len(data)-lookback)\n",
    "\n",
    "for i in range(lookback, len(data)):\n",
    "    inputs[i-lookback] = data[i-lookback:i]\n",
    "    labels[i-lookback] = data[i,1]\n",
    "inputs = inputs.reshape(-1,lookback,df.shape[1])\n",
    "labels = labels.reshape(-1,1)"
   ]
  },
  {
   "cell_type": "code",
   "execution_count": 16,
   "metadata": {},
   "outputs": [],
   "source": [
    "# Split data into train/test portions and combining all data from different files into a single array\n",
    "test_portion = int(0.1*len(inputs))\n",
    "train_x = inputs[:-test_portion]\n",
    "train_y = labels[:-test_portion]\n",
    "test_x = inputs[-test_portion:]\n",
    "test_y = labels[-test_portion:]"
   ]
  },
  {
   "cell_type": "code",
   "execution_count": 21,
   "metadata": {},
   "outputs": [
    {
     "name": "stdout",
     "output_type": "stream",
     "text": [
      "(441, 8, 2)\n"
     ]
    }
   ],
   "source": [
    "print(train_x.shape)"
   ]
  },
  {
   "cell_type": "code",
   "execution_count": 135,
   "metadata": {},
   "outputs": [],
   "source": [
    "batch_size = 10\n",
    "\n",
    "train_data = TensorDataset(torch.from_numpy(train_x), torch.from_numpy(train_y))\n",
    "train_loader = DataLoader(train_data, shuffle=True, batch_size=batch_size, drop_last=True)"
   ]
  },
  {
   "cell_type": "code",
   "execution_count": 125,
   "metadata": {},
   "outputs": [],
   "source": [
    "# torch.cuda.is_available() checks and returns a Boolean True if a GPU is available, else it'll return False\n",
    "is_cuda = torch.cuda.is_available()\n",
    "\n",
    "# If we have a GPU available, we'll set our device to GPU. We'll use this device variable later in our code.\n",
    "if is_cuda:\n",
    "    device = torch.device(\"cuda\")\n",
    "else:\n",
    "    device = torch.device(\"cpu\")"
   ]
  },
  {
   "cell_type": "code",
   "execution_count": null,
   "metadata": {},
   "outputs": [],
   "source": []
  },
  {
   "cell_type": "code",
   "execution_count": 126,
   "metadata": {},
   "outputs": [],
   "source": [
    "class GRUNet(nn.Module):\n",
    "    def __init__(self, input_dim, hidden_dim, output_dim, n_layers, drop_prob=0.2):\n",
    "        super(GRUNet, self).__init__()\n",
    "        self.hidden_dim = hidden_dim\n",
    "        self.n_layers = n_layers\n",
    "        \n",
    "        self.gru = nn.GRU(input_dim, hidden_dim, n_layers, batch_first=True, dropout=drop_prob)\n",
    "        self.fc = nn.Linear(hidden_dim, output_dim)\n",
    "        self.relu = nn.ReLU()\n",
    "        \n",
    "    def forward(self, x, h):\n",
    "        out, h = self.gru(x, h)\n",
    "        out = self.fc(self.relu(out[:,-1]))\n",
    "        return out, h\n",
    "    \n",
    "    def init_hidden(self, batch_size):\n",
    "        weight = next(self.parameters()).data\n",
    "        hidden = weight.new(self.n_layers, batch_size, self.hidden_dim).zero_().to(device)\n",
    "        return hidden"
   ]
  },
  {
   "cell_type": "code",
   "execution_count": 127,
   "metadata": {},
   "outputs": [],
   "source": [
    "def train(train_loader, learn_rate, hidden_dim=256, EPOCHS=5, model_type=\"GRU\"):\n",
    "    \n",
    "    # Setting common hyperparameters\n",
    "    input_dim = next(iter(train_loader))[0].shape[2]\n",
    "    output_dim = 1\n",
    "    n_layers = 2\n",
    "    # Instantiating the model\n",
    "    model = GRUNet(input_dim, hidden_dim, output_dim, n_layers)\n",
    "    model.to(device)\n",
    "    \n",
    "    # Defining loss function and optimizer\n",
    "    criterion = nn.MSELoss()\n",
    "    optimizer = torch.optim.Adam(model.parameters(), lr=learn_rate)\n",
    "    \n",
    "    model.train()\n",
    "    print(\"Starting Training of {} model\".format(model_type))\n",
    "    epoch_times = []\n",
    "    # Start training loop\n",
    "    for epoch in range(1,EPOCHS+1):\n",
    "        start_time = time.clock()\n",
    "        h = model.init_hidden(batch_size)\n",
    "        avg_loss = 0.\n",
    "        counter = 0\n",
    "        for x, label in train_loader:\n",
    "            counter += 1\n",
    "            h = h.data\n",
    "            model.zero_grad()\n",
    "            \n",
    "            out, h = model(x.to(device).float(), h)\n",
    "            loss = criterion(out, label.to(device).float())\n",
    "            loss.backward()\n",
    "            optimizer.step()\n",
    "            avg_loss += loss.item()\n",
    "            #if counter%20 == 0:\n",
    "            print(\"Epoch {}......Step: {}/{}....... Average Loss for Epoch: {}\".format(epoch, counter, len(train_loader), avg_loss/counter))\n",
    "        current_time = time.clock()\n",
    "        print(\"Epoch {}/{} Done, Total Loss: {}\".format(epoch, EPOCHS, avg_loss/len(train_loader)))\n",
    "        print(\"Time Elapsed for Epoch: {} seconds\".format(str(current_time-start_time)))\n",
    "        epoch_times.append(current_time-start_time)\n",
    "    print(\"Total Training Time: {} seconds\".format(str(sum(epoch_times))))\n",
    "    return model\n"
   ]
  },
  {
   "cell_type": "code",
   "execution_count": 128,
   "metadata": {},
   "outputs": [],
   "source": [
    "def evaluate(model, test_x, test_y, label_sc):\n",
    "    model.eval()\n",
    "    outputs = []\n",
    "    targets = []\n",
    "    start_time = time.clock()\n",
    "    \n",
    "    inp = torch.from_numpy(np.array(test_x))\n",
    "    labs = torch.from_numpy(np.array(test_y))\n",
    "    h = model.init_hidden(inp.shape[0])\n",
    "    out, h = model(inp.to(device).float(), h)\n",
    "    outputs.append(label_sc.inverse_transform(out.cpu().detach().numpy()).reshape(-1))\n",
    "    targets.append(label_sc.inverse_transform(labs.numpy()).reshape(-1))\n",
    "    \n",
    "    print(\"Evaluation Time: {}\".format(str(time.clock()-start_time)))\n",
    "    sMAPE = 0\n",
    "    for i in range(len(outputs)):\n",
    "        sMAPE += np.mean(abs(outputs[i]-targets[i])/(targets[i]+outputs[i])/2)/len(outputs)\n",
    "    print(\"sMAPE: {}%\".format(sMAPE*100))\n",
    "    return outputs, targets, sMAPE"
   ]
  },
  {
   "cell_type": "code",
   "execution_count": 136,
   "metadata": {},
   "outputs": [
    {
     "name": "stdout",
     "output_type": "stream",
     "text": [
      "Starting Training of GRU model\n",
      "Epoch 1......Step: 1/44....... Average Loss for Epoch: 0.3376961946487427\n",
      "Epoch 1......Step: 2/44....... Average Loss for Epoch: 0.26220444589853287\n",
      "Epoch 1......Step: 3/44....... Average Loss for Epoch: 0.23997630178928375\n",
      "Epoch 1......Step: 4/44....... Average Loss for Epoch: 0.21106463856995106\n",
      "Epoch 1......Step: 5/44....... Average Loss for Epoch: 0.1847201555967331\n",
      "Epoch 1......Step: 6/44....... Average Loss for Epoch: 0.16759456197420755\n",
      "Epoch 1......Step: 7/44....... Average Loss for Epoch: 0.15703302408967698\n",
      "Epoch 1......Step: 8/44....... Average Loss for Epoch: 0.1524287350475788\n",
      "Epoch 1......Step: 9/44....... Average Loss for Epoch: 0.14893464744091034\n",
      "Epoch 1......Step: 10/44....... Average Loss for Epoch: 0.13940439596772194\n",
      "Epoch 1......Step: 11/44....... Average Loss for Epoch: 0.13466474278406662\n",
      "Epoch 1......Step: 12/44....... Average Loss for Epoch: 0.12883031740784645\n",
      "Epoch 1......Step: 13/44....... Average Loss for Epoch: 0.1253155590249942\n",
      "Epoch 1......Step: 14/44....... Average Loss for Epoch: 0.12028967535921506\n",
      "Epoch 1......Step: 15/44....... Average Loss for Epoch: 0.11819696376721064\n",
      "Epoch 1......Step: 16/44....... Average Loss for Epoch: 0.11513717798516154\n",
      "Epoch 1......Step: 17/44....... Average Loss for Epoch: 0.11242908064056845\n",
      "Epoch 1......Step: 18/44....... Average Loss for Epoch: 0.11122391869624455\n",
      "Epoch 1......Step: 19/44....... Average Loss for Epoch: 0.10724227267660592\n",
      "Epoch 1......Step: 20/44....... Average Loss for Epoch: 0.10463579948991537\n",
      "Epoch 1......Step: 21/44....... Average Loss for Epoch: 0.10153568003858839\n",
      "Epoch 1......Step: 22/44....... Average Loss for Epoch: 0.09853771311992948\n",
      "Epoch 1......Step: 23/44....... Average Loss for Epoch: 0.09673140781081241\n",
      "Epoch 1......Step: 24/44....... Average Loss for Epoch: 0.09339704170512657\n",
      "Epoch 1......Step: 25/44....... Average Loss for Epoch: 0.09161865331232548\n",
      "Epoch 1......Step: 26/44....... Average Loss for Epoch: 0.08990062794719751\n",
      "Epoch 1......Step: 27/44....... Average Loss for Epoch: 0.08773104039331277\n",
      "Epoch 1......Step: 28/44....... Average Loss for Epoch: 0.0851371397729963\n",
      "Epoch 1......Step: 29/44....... Average Loss for Epoch: 0.0832492058197486\n",
      "Epoch 1......Step: 30/44....... Average Loss for Epoch: 0.0831565749210616\n",
      "Epoch 1......Step: 31/44....... Average Loss for Epoch: 0.08356446042777069\n",
      "Epoch 1......Step: 32/44....... Average Loss for Epoch: 0.08156008707010187\n",
      "Epoch 1......Step: 33/44....... Average Loss for Epoch: 0.0816965727699977\n",
      "Epoch 1......Step: 34/44....... Average Loss for Epoch: 0.08119625064051327\n",
      "Epoch 1......Step: 35/44....... Average Loss for Epoch: 0.08137508111872843\n",
      "Epoch 1......Step: 36/44....... Average Loss for Epoch: 0.07989824710724254\n",
      "Epoch 1......Step: 37/44....... Average Loss for Epoch: 0.078381405866428\n",
      "Epoch 1......Step: 38/44....... Average Loss for Epoch: 0.07799788189463709\n",
      "Epoch 1......Step: 39/44....... Average Loss for Epoch: 0.07650981525866649\n",
      "Epoch 1......Step: 40/44....... Average Loss for Epoch: 0.07520187024492771\n",
      "Epoch 1......Step: 41/44....... Average Loss for Epoch: 0.07373118393759175\n",
      "Epoch 1......Step: 42/44....... Average Loss for Epoch: 0.07250528900130164\n",
      "Epoch 1......Step: 43/44....... Average Loss for Epoch: 0.07190577098883169\n",
      "Epoch 1......Step: 44/44....... Average Loss for Epoch: 0.07133995278061113\n",
      "Epoch 1/5 Done, Total Loss: 0.07133995278061113\n",
      "Time Elapsed for Epoch: 0.7996814999996786 seconds\n",
      "Epoch 2......Step: 1/44....... Average Loss for Epoch: 0.05619765445590019\n",
      "Epoch 2......Step: 2/44....... Average Loss for Epoch: 0.038330486975610256\n",
      "Epoch 2......Step: 3/44....... Average Loss for Epoch: 0.035147679348786674\n",
      "Epoch 2......Step: 4/44....... Average Loss for Epoch: 0.03795610275119543\n",
      "Epoch 2......Step: 5/44....... Average Loss for Epoch: 0.033173374645411965\n",
      "Epoch 2......Step: 6/44....... Average Loss for Epoch: 0.0325323975024124\n",
      "Epoch 2......Step: 7/44....... Average Loss for Epoch: 0.035076303008411615\n",
      "Epoch 2......Step: 8/44....... Average Loss for Epoch: 0.04121093254070729\n",
      "Epoch 2......Step: 9/44....... Average Loss for Epoch: 0.03879950661212206\n",
      "Epoch 2......Step: 10/44....... Average Loss for Epoch: 0.03828889401629567\n",
      "Epoch 2......Step: 11/44....... Average Loss for Epoch: 0.040627264587039295\n",
      "Epoch 2......Step: 12/44....... Average Loss for Epoch: 0.038459709690262876\n",
      "Epoch 2......Step: 13/44....... Average Loss for Epoch: 0.0381401486408252\n",
      "Epoch 2......Step: 14/44....... Average Loss for Epoch: 0.036416091823152134\n",
      "Epoch 2......Step: 15/44....... Average Loss for Epoch: 0.03543448920051257\n",
      "Epoch 2......Step: 16/44....... Average Loss for Epoch: 0.03515875292941928\n",
      "Epoch 2......Step: 17/44....... Average Loss for Epoch: 0.03467282926773324\n",
      "Epoch 2......Step: 18/44....... Average Loss for Epoch: 0.033197121125542454\n",
      "Epoch 2......Step: 19/44....... Average Loss for Epoch: 0.03553501011705712\n",
      "Epoch 2......Step: 20/44....... Average Loss for Epoch: 0.03683746480382979\n",
      "Epoch 2......Step: 21/44....... Average Loss for Epoch: 0.039263681863390264\n",
      "Epoch 2......Step: 22/44....... Average Loss for Epoch: 0.039028407032178206\n",
      "Epoch 2......Step: 23/44....... Average Loss for Epoch: 0.03938201462607021\n",
      "Epoch 2......Step: 24/44....... Average Loss for Epoch: 0.04067823543058088\n",
      "Epoch 2......Step: 25/44....... Average Loss for Epoch: 0.041801765002310275\n",
      "Epoch 2......Step: 26/44....... Average Loss for Epoch: 0.04155717363867622\n",
      "Epoch 2......Step: 27/44....... Average Loss for Epoch: 0.041886769545574985\n",
      "Epoch 2......Step: 28/44....... Average Loss for Epoch: 0.041133019308160455\n",
      "Epoch 2......Step: 29/44....... Average Loss for Epoch: 0.04103833106185856\n",
      "Epoch 2......Step: 30/44....... Average Loss for Epoch: 0.041318181063979866\n",
      "Epoch 2......Step: 31/44....... Average Loss for Epoch: 0.04198315225902104\n",
      "Epoch 2......Step: 32/44....... Average Loss for Epoch: 0.04156429952126928\n",
      "Epoch 2......Step: 33/44....... Average Loss for Epoch: 0.04085096527794094\n",
      "Epoch 2......Step: 34/44....... Average Loss for Epoch: 0.04031807647141464\n",
      "Epoch 2......Step: 35/44....... Average Loss for Epoch: 0.03958984568182911\n",
      "Epoch 2......Step: 36/44....... Average Loss for Epoch: 0.04017091695115798\n",
      "Epoch 2......Step: 37/44....... Average Loss for Epoch: 0.04093117536221807\n",
      "Epoch 2......Step: 38/44....... Average Loss for Epoch: 0.0408538945362364\n",
      "Epoch 2......Step: 39/44....... Average Loss for Epoch: 0.040705350323174246\n",
      "Epoch 2......Step: 40/44....... Average Loss for Epoch: 0.04075164122041315\n",
      "Epoch 2......Step: 41/44....... Average Loss for Epoch: 0.04049870719360869\n",
      "Epoch 2......Step: 42/44....... Average Loss for Epoch: 0.039913994016214496\n",
      "Epoch 2......Step: 43/44....... Average Loss for Epoch: 0.039396315055011316\n",
      "Epoch 2......Step: 44/44....... Average Loss for Epoch: 0.03946689797819338\n",
      "Epoch 2/5 Done, Total Loss: 0.03946689797819338\n",
      "Time Elapsed for Epoch: 0.8225007999999434 seconds\n",
      "Epoch 3......Step: 1/44....... Average Loss for Epoch: 0.02911490574479103\n",
      "Epoch 3......Step: 2/44....... Average Loss for Epoch: 0.022824741899967194\n",
      "Epoch 3......Step: 3/44....... Average Loss for Epoch: 0.01925228505084912\n",
      "Epoch 3......Step: 4/44....... Average Loss for Epoch: 0.022222840460017323\n",
      "Epoch 3......Step: 5/44....... Average Loss for Epoch: 0.021924799866974355\n",
      "Epoch 3......Step: 6/44....... Average Loss for Epoch: 0.021071526687592268\n",
      "Epoch 3......Step: 7/44....... Average Loss for Epoch: 0.025722888564424857\n",
      "Epoch 3......Step: 8/44....... Average Loss for Epoch: 0.029177547083236277\n",
      "Epoch 3......Step: 9/44....... Average Loss for Epoch: 0.027794385018448036\n",
      "Epoch 3......Step: 10/44....... Average Loss for Epoch: 0.027343117725104095\n",
      "Epoch 3......Step: 11/44....... Average Loss for Epoch: 0.02930454359474507\n",
      "Epoch 3......Step: 12/44....... Average Loss for Epoch: 0.02941125623571376\n",
      "Epoch 3......Step: 13/44....... Average Loss for Epoch: 0.030152967271323387\n",
      "Epoch 3......Step: 14/44....... Average Loss for Epoch: 0.03499316630352821\n",
      "Epoch 3......Step: 15/44....... Average Loss for Epoch: 0.03329015454898278\n",
      "Epoch 3......Step: 16/44....... Average Loss for Epoch: 0.03426242439309135\n"
     ]
    },
    {
     "name": "stdout",
     "output_type": "stream",
     "text": [
      "Epoch 3......Step: 17/44....... Average Loss for Epoch: 0.033438658506116443\n",
      "Epoch 3......Step: 18/44....... Average Loss for Epoch: 0.032919307394574084\n",
      "Epoch 3......Step: 19/44....... Average Loss for Epoch: 0.031850194313416354\n",
      "Epoch 3......Step: 20/44....... Average Loss for Epoch: 0.031121415412053467\n",
      "Epoch 3......Step: 21/44....... Average Loss for Epoch: 0.03025037453820308\n",
      "Epoch 3......Step: 22/44....... Average Loss for Epoch: 0.029535731851038607\n",
      "Epoch 3......Step: 23/44....... Average Loss for Epoch: 0.029688391389082306\n",
      "Epoch 3......Step: 24/44....... Average Loss for Epoch: 0.031548272857132055\n",
      "Epoch 3......Step: 25/44....... Average Loss for Epoch: 0.03239973235875368\n",
      "Epoch 3......Step: 26/44....... Average Loss for Epoch: 0.03298665615371787\n",
      "Epoch 3......Step: 27/44....... Average Loss for Epoch: 0.033819620290564165\n",
      "Epoch 3......Step: 28/44....... Average Loss for Epoch: 0.03310221869365445\n",
      "Epoch 3......Step: 29/44....... Average Loss for Epoch: 0.03327671319631667\n",
      "Epoch 3......Step: 30/44....... Average Loss for Epoch: 0.03264919618765513\n",
      "Epoch 3......Step: 31/44....... Average Loss for Epoch: 0.033055188434739265\n",
      "Epoch 3......Step: 32/44....... Average Loss for Epoch: 0.032445033080875874\n",
      "Epoch 3......Step: 33/44....... Average Loss for Epoch: 0.03203706223178993\n",
      "Epoch 3......Step: 34/44....... Average Loss for Epoch: 0.0318136715932804\n",
      "Epoch 3......Step: 35/44....... Average Loss for Epoch: 0.03163972592779568\n",
      "Epoch 3......Step: 36/44....... Average Loss for Epoch: 0.0314245145354006\n",
      "Epoch 3......Step: 37/44....... Average Loss for Epoch: 0.03207590249744621\n",
      "Epoch 3......Step: 38/44....... Average Loss for Epoch: 0.03175304212460393\n",
      "Epoch 3......Step: 39/44....... Average Loss for Epoch: 0.03118235641756119\n",
      "Epoch 3......Step: 40/44....... Average Loss for Epoch: 0.03171940543688834\n",
      "Epoch 3......Step: 41/44....... Average Loss for Epoch: 0.031118230621625737\n",
      "Epoch 3......Step: 42/44....... Average Loss for Epoch: 0.030511055551912813\n",
      "Epoch 3......Step: 43/44....... Average Loss for Epoch: 0.03240772220847565\n",
      "Epoch 3......Step: 44/44....... Average Loss for Epoch: 0.031913549861532046\n",
      "Epoch 3/5 Done, Total Loss: 0.031913549861532046\n",
      "Time Elapsed for Epoch: 0.8255263999999443 seconds\n",
      "Epoch 4......Step: 1/44....... Average Loss for Epoch: 0.00952270906418562\n",
      "Epoch 4......Step: 2/44....... Average Loss for Epoch: 0.012425938155502081\n",
      "Epoch 4......Step: 3/44....... Average Loss for Epoch: 0.019849348502854507\n",
      "Epoch 4......Step: 4/44....... Average Loss for Epoch: 0.036753157852217555\n",
      "Epoch 4......Step: 5/44....... Average Loss for Epoch: 0.0320799833163619\n",
      "Epoch 4......Step: 6/44....... Average Loss for Epoch: 0.038017532943437495\n",
      "Epoch 4......Step: 7/44....... Average Loss for Epoch: 0.042480011470615864\n",
      "Epoch 4......Step: 8/44....... Average Loss for Epoch: 0.041316487709991634\n",
      "Epoch 4......Step: 9/44....... Average Loss for Epoch: 0.04420908695707718\n",
      "Epoch 4......Step: 10/44....... Average Loss for Epoch: 0.0405208888463676\n",
      "Epoch 4......Step: 11/44....... Average Loss for Epoch: 0.03792954109270464\n",
      "Epoch 4......Step: 12/44....... Average Loss for Epoch: 0.03617491705032686\n",
      "Epoch 4......Step: 13/44....... Average Loss for Epoch: 0.03758151435221617\n",
      "Epoch 4......Step: 14/44....... Average Loss for Epoch: 0.0367527997254261\n",
      "Epoch 4......Step: 15/44....... Average Loss for Epoch: 0.03634969424456358\n",
      "Epoch 4......Step: 16/44....... Average Loss for Epoch: 0.03541913238586858\n",
      "Epoch 4......Step: 17/44....... Average Loss for Epoch: 0.034957254688967675\n",
      "Epoch 4......Step: 18/44....... Average Loss for Epoch: 0.03438824565253324\n",
      "Epoch 4......Step: 19/44....... Average Loss for Epoch: 0.033229826606417955\n",
      "Epoch 4......Step: 20/44....... Average Loss for Epoch: 0.03226740811951458\n",
      "Epoch 4......Step: 21/44....... Average Loss for Epoch: 0.03177143850674232\n",
      "Epoch 4......Step: 22/44....... Average Loss for Epoch: 0.03335042166608301\n",
      "Epoch 4......Step: 23/44....... Average Loss for Epoch: 0.03258461493026951\n",
      "Epoch 4......Step: 24/44....... Average Loss for Epoch: 0.032259144626247384\n",
      "Epoch 4......Step: 25/44....... Average Loss for Epoch: 0.03154412228614092\n",
      "Epoch 4......Step: 26/44....... Average Loss for Epoch: 0.03126850419749434\n",
      "Epoch 4......Step: 27/44....... Average Loss for Epoch: 0.030517253886770318\n",
      "Epoch 4......Step: 28/44....... Average Loss for Epoch: 0.030383193865418434\n",
      "Epoch 4......Step: 29/44....... Average Loss for Epoch: 0.03109078173493517\n",
      "Epoch 4......Step: 30/44....... Average Loss for Epoch: 0.03040049346163869\n",
      "Epoch 4......Step: 31/44....... Average Loss for Epoch: 0.029734816732666185\n",
      "Epoch 4......Step: 32/44....... Average Loss for Epoch: 0.03112435244838707\n",
      "Epoch 4......Step: 33/44....... Average Loss for Epoch: 0.030479298509431606\n",
      "Epoch 4......Step: 34/44....... Average Loss for Epoch: 0.03010305159670465\n",
      "Epoch 4......Step: 35/44....... Average Loss for Epoch: 0.029974097439220974\n",
      "Epoch 4......Step: 36/44....... Average Loss for Epoch: 0.031331144687202245\n",
      "Epoch 4......Step: 37/44....... Average Loss for Epoch: 0.03201705177088041\n",
      "Epoch 4......Step: 38/44....... Average Loss for Epoch: 0.03138054821542219\n",
      "Epoch 4......Step: 39/44....... Average Loss for Epoch: 0.031006464663033303\n",
      "Epoch 4......Step: 40/44....... Average Loss for Epoch: 0.03071746986825019\n",
      "Epoch 4......Step: 41/44....... Average Loss for Epoch: 0.03233303377268518\n",
      "Epoch 4......Step: 42/44....... Average Loss for Epoch: 0.03198471915952507\n",
      "Epoch 4......Step: 43/44....... Average Loss for Epoch: 0.03162095191087141\n",
      "Epoch 4......Step: 44/44....... Average Loss for Epoch: 0.03191887263462625\n",
      "Epoch 4/5 Done, Total Loss: 0.03191887263462625\n",
      "Time Elapsed for Epoch: 0.8306999000005817 seconds\n",
      "Epoch 5......Step: 1/44....... Average Loss for Epoch: 0.019847456365823746\n",
      "Epoch 5......Step: 2/44....... Average Loss for Epoch: 0.021576091647148132\n",
      "Epoch 5......Step: 3/44....... Average Loss for Epoch: 0.04004025707642237\n",
      "Epoch 5......Step: 4/44....... Average Loss for Epoch: 0.03466957341879606\n",
      "Epoch 5......Step: 5/44....... Average Loss for Epoch: 0.0344341330230236\n",
      "Epoch 5......Step: 6/44....... Average Loss for Epoch: 0.04408203872541586\n",
      "Epoch 5......Step: 7/44....... Average Loss for Epoch: 0.04023088434977191\n",
      "Epoch 5......Step: 8/44....... Average Loss for Epoch: 0.038298593601211905\n",
      "Epoch 5......Step: 9/44....... Average Loss for Epoch: 0.03611857319871584\n",
      "Epoch 5......Step: 10/44....... Average Loss for Epoch: 0.03649987317621708\n",
      "Epoch 5......Step: 11/44....... Average Loss for Epoch: 0.034700770269740715\n",
      "Epoch 5......Step: 12/44....... Average Loss for Epoch: 0.03752430031696955\n",
      "Epoch 5......Step: 13/44....... Average Loss for Epoch: 0.03586696116970135\n",
      "Epoch 5......Step: 14/44....... Average Loss for Epoch: 0.034797372562544684\n",
      "Epoch 5......Step: 15/44....... Average Loss for Epoch: 0.033884850020209946\n",
      "Epoch 5......Step: 16/44....... Average Loss for Epoch: 0.039373468491248786\n",
      "Epoch 5......Step: 17/44....... Average Loss for Epoch: 0.039124571773059225\n",
      "Epoch 5......Step: 18/44....... Average Loss for Epoch: 0.03808008134365082\n",
      "Epoch 5......Step: 19/44....... Average Loss for Epoch: 0.03635893345467354\n",
      "Epoch 5......Step: 20/44....... Average Loss for Epoch: 0.03513496071100235\n",
      "Epoch 5......Step: 21/44....... Average Loss for Epoch: 0.03457111803193887\n",
      "Epoch 5......Step: 22/44....... Average Loss for Epoch: 0.035117852670902554\n",
      "Epoch 5......Step: 23/44....... Average Loss for Epoch: 0.034343042532386986\n",
      "Epoch 5......Step: 24/44....... Average Loss for Epoch: 0.033319318667054176\n",
      "Epoch 5......Step: 25/44....... Average Loss for Epoch: 0.03274932824075222\n",
      "Epoch 5......Step: 26/44....... Average Loss for Epoch: 0.03186161182104395\n",
      "Epoch 5......Step: 27/44....... Average Loss for Epoch: 0.031316612778162514\n",
      "Epoch 5......Step: 28/44....... Average Loss for Epoch: 0.032534748216026595\n",
      "Epoch 5......Step: 29/44....... Average Loss for Epoch: 0.03261353117253246\n",
      "Epoch 5......Step: 30/44....... Average Loss for Epoch: 0.03187507037073374\n",
      "Epoch 5......Step: 31/44....... Average Loss for Epoch: 0.03371287635978191\n",
      "Epoch 5......Step: 32/44....... Average Loss for Epoch: 0.032841549400473014\n",
      "Epoch 5......Step: 33/44....... Average Loss for Epoch: 0.03275488003749739\n",
      "Epoch 5......Step: 34/44....... Average Loss for Epoch: 0.032022552811266744\n",
      "Epoch 5......Step: 35/44....... Average Loss for Epoch: 0.03158232300941433\n",
      "Epoch 5......Step: 36/44....... Average Loss for Epoch: 0.031227794812164374\n",
      "Epoch 5......Step: 37/44....... Average Loss for Epoch: 0.031223216295443678\n",
      "Epoch 5......Step: 38/44....... Average Loss for Epoch: 0.030582857881917766\n",
      "Epoch 5......Step: 39/44....... Average Loss for Epoch: 0.029924731677732408\n"
     ]
    },
    {
     "name": "stdout",
     "output_type": "stream",
     "text": [
      "Epoch 5......Step: 40/44....... Average Loss for Epoch: 0.030596666946075858\n",
      "Epoch 5......Step: 41/44....... Average Loss for Epoch: 0.030699627042361875\n",
      "Epoch 5......Step: 42/44....... Average Loss for Epoch: 0.03041298104272712\n",
      "Epoch 5......Step: 43/44....... Average Loss for Epoch: 0.031649806839955406\n",
      "Epoch 5......Step: 44/44....... Average Loss for Epoch: 0.0316421167967333\n",
      "Epoch 5/5 Done, Total Loss: 0.0316421167967333\n",
      "Time Elapsed for Epoch: 0.8076516999999512 seconds\n",
      "Total Training Time: 4.086060300000099 seconds\n"
     ]
    }
   ],
   "source": [
    "lr = 0.001\n",
    "gru_model = train(train_loader, lr, model_type=\"GRU\")"
   ]
  },
  {
   "cell_type": "code",
   "execution_count": 137,
   "metadata": {},
   "outputs": [
    {
     "name": "stdout",
     "output_type": "stream",
     "text": [
      "Evaluation Time: 0.016697799999747076\n",
      "sMAPE: 1.3633677704566585%\n"
     ]
    }
   ],
   "source": [
    "gru_outputs, targets, gru_sMAPE = evaluate(gru_model, test_x, test_y, label_sc)"
   ]
  },
  {
   "cell_type": "code",
   "execution_count": 138,
   "metadata": {},
   "outputs": [
    {
     "name": "stdout",
     "output_type": "stream",
     "text": [
      "[array([245.84395, 245.73222, 245.6508 , 246.11147, 245.5741 , 246.10052,\n",
      "       247.6869 , 250.193  , 254.77301, 260.5338 , 268.2759 , 274.4807 ,\n",
      "       282.0025 , 290.6752 , 297.75284, 277.34012, 286.10934, 300.4563 ,\n",
      "       321.6285 , 332.489  , 342.21875, 340.8509 , 341.02524, 336.43024,\n",
      "       330.10623, 326.72916, 278.70374, 290.62387, 309.25247, 319.22714,\n",
      "       323.97275, 315.46094, 303.1953 , 294.82837, 285.19595, 278.4714 ,\n",
      "       271.5386 , 252.22325, 251.2919 , 253.21307, 253.63321, 253.80386,\n",
      "       250.82988, 247.07562, 243.70879, 243.61287, 244.21011, 244.73476],\n",
      "      dtype=float32)]\n"
     ]
    }
   ],
   "source": [
    "print(gru_outputs)"
   ]
  },
  {
   "cell_type": "code",
   "execution_count": 139,
   "metadata": {},
   "outputs": [
    {
     "name": "stdout",
     "output_type": "stream",
     "text": [
      "[array([239.291, 238.02 , 240.614, 235.374, 241.88 , 245.818, 248.441,\n",
      "       256.25 , 260.193, 270.614, 271.94 , 283.67 , 292.798, 294.123,\n",
      "       235.377, 311.06 , 313.645, 342.382, 335.877, 358.034, 346.302,\n",
      "       359.341, 351.502, 343.708, 347.597, 236.659, 363.274, 346.313,\n",
      "       334.564, 344.982, 322.788, 311.098, 307.147, 294.101, 282.376,\n",
      "       274.51 , 235.363, 271.892, 260.171, 252.316, 252.324, 244.512,\n",
      "       241.884, 236.707, 240.597, 237.995, 237.971, 238.005])]\n"
     ]
    }
   ],
   "source": [
    "print(targets)"
   ]
  },
  {
   "cell_type": "code",
   "execution_count": 140,
   "metadata": {},
   "outputs": [
    {
     "data": {
      "image/png": "[encoded data removed]",
      "text/plain": [
       "<Figure size 432x288 with 1 Axes>"
      ]
     },
     "metadata": {
      "needs_background": "light"
     },
     "output_type": "display_data"
    }
   ],
   "source": [
    "plt.plot(gru_outputs[0])\n",
    "plt.show()"
   ]
  },
  {
   "cell_type": "code",
   "execution_count": 141,
   "metadata": {},
   "outputs": [
    {
     "data": {
      "image/png": "[encoded data removed]",
      "text/plain": [
       "<Figure size 432x288 with 1 Axes>"
      ]
     },
     "metadata": {
      "needs_background": "light"
     },
     "output_type": "display_data"
    }
   ],
   "source": [
    "plt.plot(targets[0])\n",
    "plt.show()"
   ]
  },
  {
   "cell_type": "code",
   "execution_count": null,
   "metadata": {},
   "outputs": [],
   "source": []
  }
 ],
 "metadata": {
  "kernelspec": {
   "display_name": "Python 3",
   "language": "python",
   "name": "python3"
  },
  "language_info": {
   "codemirror_mode": {
    "name": "ipython",
    "version": 3
   },
   "file_extension": ".py",
   "mimetype": "text/x-python",
   "name": "python",
   "nbconvert_exporter": "python",
   "pygments_lexer": "ipython3",
   "version": "3.6.10"
  }
 },
 "nbformat": 4,
 "nbformat_minor": 4
}
